{
 "metadata": {
  "name": "",
  "signature": "sha256:5aa735298f6237797d2de571db3bbaf4fd46b7ae7561b3127cbdb567b6fe947f"
 },
 "nbformat": 3,
 "nbformat_minor": 0,
 "worksheets": [
  {
   "cells": [
    {
     "cell_type": "heading",
     "level": 1,
     "metadata": {},
     "source": [
      "Python Bootcamp 2014 - Session 1 - intro to python"
     ]
    },
    {
     "cell_type": "heading",
     "level": 3,
     "metadata": {},
     "source": [
      "A start and a reference"
     ]
    },
    {
     "cell_type": "markdown",
     "metadata": {},
     "source": [
      "The standard python documents have a very handy tutorial that is also very helpful if you just haven't\n",
      "used python in a while and need a quick refresher on the basics.  Rather than giving a direct link, it is\n",
      "useful to walk through the <a href=http://python.org target=_blank>python.org site</a> to it.  Click on the link, then click\n",
      "documentation, for python 2.x, and find the \"Tutorial\"."
     ]
    },
    {
     "cell_type": "heading",
     "level": 3,
     "metadata": {},
     "source": [
      "Python ultra-basics"
     ]
    },
    {
     "cell_type": "markdown",
     "metadata": {},
     "source": [
      "Walk through Tutorial section 3.1 - numbers, variables, strings, lists (=arrays)"
     ]
    },
    {
     "cell_type": "markdown",
     "metadata": {},
     "source": [
      "Getting off the ground exercise 1 -  Write and run a script which does the following:\n",
      "<ul>\n",
      "<li> Assign 2.2 and 0.5 to variables a and b\n",
      "<li> Compute and print, using <tt>print</tt>, a multiplied by b and a raised to the power b\n",
      "</ul>"
     ]
    },
    {
     "cell_type": "markdown",
     "metadata": {},
     "source": [
      "Getting off the ground exercise 2 - Integer and floating point numbers\n",
      "<ul>\n",
      "<li> show, using the interactive interpreter that two variables that are\n",
      "assigned an integer are treated as integers when they are divided\n",
      "<li> How would you avoid this if you did not know whether a variable would be\n",
      "assigned an integer or a floating point number?\n",
      "</ul>"
     ]
    },
    {
     "cell_type": "markdown",
     "metadata": {},
     "source": [
      "Getting off the ground exercise 3 - slicing strings, calling methods,\n",
      "list elements\n",
      "<ul>\n",
      "<li> Put your first and last name in a single string, then use slices to\n",
      "print them on separate lines.\n",
      "<li> Try calling the <tt>split()</tt> method on your name.  What does it\n",
      "appear to do?\n",
      "<li> Use the result of <tt>split()</tt> to once again print your first and\n",
      "last name on separate lines.\n",
      "<li> Use the append method to add a \"PhD\" to the end the list containing your\n",
      "name.  You'll get there!\n",
      "</ul>"
     ]
    },
    {
     "cell_type": "heading",
     "level": 3,
     "metadata": {},
     "source": [
      "Python Programming"
     ]
    },
    {
     "cell_type": "markdown",
     "metadata": {},
     "source": [
      "Now we move on to flow-control structures - if, for, while.\n",
      "<ul>\n",
      "<li>INDENTATION DETERMINES FLOW\n",
      "<li>Most comparisons ( &lt;, &gt;, == ) work as expected, logicals are\n",
      "combined with the words \"and\", \"or\", and \"not\".\n",
      "<li>Blocks for loop structures begin after a :, and end on a blank line or\n",
      "reduction of indentation\n",
      "<li> <tt>for</tt> iterates over a list, this is different from Fortran or C.\n",
      "<li> It is sometimes more clear to iterate over an index using the\n",
      "<tt>range()</tt> function than iterate over a list directly, but it depends\n",
      "on the circumstances.\n",
      "</ul>"
     ]
    },
    {
     "cell_type": "heading",
     "level": 4,
     "metadata": {},
     "source": [
      "Project 1 - sorting and averaging sets"
     ]
    },
    {
     "cell_type": "markdown",
     "metadata": {},
     "source": [
      "Use these data of event <a href=event_data.txt>times and energies</a>.  Just\n",
      "put these list declarations at the top of your file for now.\n",
      "<p>During sometime in the given time interval, a signal turns on, but the\n",
      "data is very noisy.  Write a python script that does the following:\n",
      "<ul>\n",
      "<li>For a given proposed trigger time, make two lists of event energies\n",
      "<li>Average the energies before and after the trigger value and compute and\n",
      "report the difference in averages\n",
      "<li>Make a small test data set to confirm that your\n",
      "program does what you intend.\n",
      "</ul>"
     ]
    },
    {
     "cell_type": "markdown",
     "metadata": {},
     "source": [
      "Have each member of your group choose several times for a proposed trigger\n",
      "and run their script.  Find the trigger value for which the difference\n",
      "between averages is largest."
     ]
    },
    {
     "cell_type": "heading",
     "level": 3,
     "metadata": {},
     "source": [
      "Python Structured Programming"
     ]
    },
    {
     "cell_type": "markdown",
     "metadata": {},
     "source": [
      "Walk through functions - tutorial section 4.6"
     ]
    },
    {
     "cell_type": "markdown",
     "metadata": {},
     "source": [
      "Other topics\n",
      "<ul>\n",
      "<li> the python library documentation (look at <tt>random</tt>.)\n",
      "<li> getting command-line arguments\n",
      "<blockquote><tt>import sys</tt><br>\n",
      "<tt>print sys.argv[1]</tt>\n",
      "</blockquote>\n",
      "<li> Other types of arrays: sets and dictionaries (5.4, 5.5), aka static\n",
      "lists and associative arrays.\n",
      "</ul>"
     ]
    },
    {
     "cell_type": "heading",
     "level": 4,
     "metadata": {},
     "source": [
      "Project 2 - A very bad way to integrate"
     ]
    },
    {
     "cell_type": "markdown",
     "metadata": {},
     "source": [
      "Choose one of the following easy functions:\n",
      "<ul>\n",
      "<li>x<sup>4</sup>, x<sup>8</sup>, x<sup>0.3</sup>, x<sup>1.9</sup>\n",
      "</ul>\n",
      "<p>and one (or more) of the following hard functions\n",
      "<ul>\n",
      "<li>x<sup>3 exp(-x)</sup>\n",
      "<li>sin(x<sup>3</sup>+1/(2-x))\n",
      "<li>sin(1/(3-x)<sup>2</sup>) for [0,0.5], sin(1/(2+x)<sup>2</sup>) for\n",
      "(0.5,1]\n",
      "</ul>"
     ]
    },
    {
     "cell_type": "markdown",
     "metadata": {},
     "source": [
      "Define a python function that takes x as an argument and calculates your\n",
      "function."
     ]
    },
    {
     "cell_type": "markdown",
     "metadata": {},
     "source": [
      "We want to find the average value of f over the interval x=[0,1]."
     ]
    },
    {
     "cell_type": "markdown",
     "metadata": {},
     "source": [
      "Create another function that does the following, for an integer argument n:\n",
      "<ul>\n",
      "<li> Creates an array of length n (a parameter we will vary) of random numbers between zero and 1.\n",
      "<li>Averages the value of the function at all of these x values and returns\n",
      "the results.\n",
      "</ul>"
     ]
    },
    {
     "cell_type": "markdown",
     "metadata": {},
     "source": [
      "Have each person in your group choose a value of n.\n",
      "Write a script that repeats the calculation for the same value of n,\n",
      "computing the average and standard deviation of the result\n",
      "you find.  Using the correct answer for the easy problem, or higher n values for the harder function, does the\n",
      "standard deviation provide a reasonable estimate for the error at a given n?"
     ]
    },
    {
     "cell_type": "markdown",
     "metadata": {},
     "source": [
      " Now instead of averaging, use the <tt>sort()</tt> method to sort the\n",
      "random sequence first, then compute the average by integrating using the\n",
      "trapezoidal rule with the random sequence.  Repeat the above tests for the\n",
      "dependence on n."
     ]
    },
    {
     "cell_type": "markdown",
     "metadata": {},
     "source": [
      "Try integrating with <tt>scipy.integrate.quad( myfunc, 0, 1.0 )</tt>.  Don't\n",
      "forget to <tt>import scipy.integrate</tt> first."
     ]
    },
    {
     "cell_type": "code",
     "collapsed": false,
     "input": [],
     "language": "python",
     "metadata": {},
     "outputs": []
    }
   ],
   "metadata": {}
  }
 ]
}